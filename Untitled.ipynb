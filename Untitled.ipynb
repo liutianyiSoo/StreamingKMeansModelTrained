{
 "cells": [
  {
   "cell_type": "code",
   "execution_count": 63,
   "metadata": {},
   "outputs": [
    {
     "name": "stdout",
     "output_type": "stream",
     "text": [
      "ModelCenters\n",
      "[1.2534532460776162, 6.856679967181538, 3.2250501720228986]\n",
      "[-10.156657154465908, -3.5848788898966317, 5.3892944840376265]\n",
      "[7.343686057025131, -11.061152622924743, -2.216243802981913]\n",
      "[7.639490535857643, 7.346779839460504, -6.256346105555394]\n",
      "[5.260989605336341, -4.187107444793483, -7.75039924860727]\n",
      "[-2.977963283723903, 8.066823117575682, 3.9921342376677287]\n",
      "[-4.450148486378611, 8.787812917303558, 4.402385261958164]\n",
      "[-12.285750997179061, 7.940200135184089, 0.3459198736853741]\n",
      "RealCenters\n",
      "[7.620108609050004, 7.346660591036703, -6.290336278117563]\n",
      "[1.216139830034304, 6.897343744086699, 3.2562941350741452]\n",
      "[-5.223085204826054, 8.950732478158361, 4.503469913240454]\n",
      "[-9.136937286159148, -4.026945118866233, 6.4689979793784165]\n",
      "[-12.405245976949242, 8.804614955131967, 0.028148532802171555]\n",
      "[-11.25598636322518, -3.0551116731191517, 4.17974955734857]\n",
      "[7.324337604602991, -11.046860960610914, -2.1963380982614793]\n",
      "[5.2355732734978195, -4.177932358804666, -7.742753520486113]\n"
     ]
    }
   ],
   "source": [
    "from itertools import permutations\n",
    "import csv\n",
    "\n",
    "def squaredDistance(a,b):\n",
    "    dist = 0\n",
    "    for i in range(len(a)):\n",
    "        dist += (a[i]-b[i])**2\n",
    "    return dist\n",
    "\n",
    "modelCenters = []\n",
    "with open('kmeansModel','r') as f:\n",
    "    line = f.readline()\n",
    "    while line:\n",
    "        points = line[1:len(line)-2].split(\",\")\n",
    "        modelCenters.append([float(i) for i in points])\n",
    "        line = f.readline()\n",
    "\n",
    "realCenters = []\n",
    "with open('centers.csv','r') as f:\n",
    "    csvReader = csv.DictReader(f)\n",
    "    for row in csvReader:\n",
    "        center = []\n",
    "        for i in row:\n",
    "            center.append(float(row[i]))                    \n",
    "        realCenters.append(center)\n",
    "\n",
    "perm = list(permutations([i for i in range(8)]))\n",
    "\n",
    "print(\"ModelCenters\")\n",
    "for i in modelCenters:\n",
    "    print(i)\n",
    "print(\"RealCenters\")\n",
    "for i in realCenters:\n",
    "    print(i)"
   ]
  },
  {
   "cell_type": "code",
   "execution_count": 64,
   "metadata": {},
   "outputs": [],
   "source": [
    "totalDist = []\n",
    "for i in perm:\n",
    "    dist = 0\n",
    "    for j in range(len(i)):\n",
    "        dist += squaredDistance(modelCenters[j], realCenters[i[j]])\n",
    "    totalDist.append(dist)"
   ]
  },
  {
   "cell_type": "code",
   "execution_count": 65,
   "metadata": {},
   "outputs": [],
   "source": [
    "import operator\n",
    "minIndex, minValue = min(enumerate(totalDist),key=operator.itemgetter(1))\n"
   ]
  },
  {
   "cell_type": "code",
   "execution_count": 66,
   "metadata": {},
   "outputs": [
    {
     "name": "stdout",
     "output_type": "stream",
     "text": [
      "(1, 5, 6, 0, 7, 3, 2, 4)\n"
     ]
    }
   ],
   "source": [
    "print(perm[minIndex])"
   ]
  }
 ],
 "metadata": {
  "kernelspec": {
   "display_name": "Python 3",
   "language": "python",
   "name": "python3"
  },
  "language_info": {
   "codemirror_mode": {
    "name": "ipython",
    "version": 3
   },
   "file_extension": ".py",
   "mimetype": "text/x-python",
   "name": "python",
   "nbconvert_exporter": "python",
   "pygments_lexer": "ipython3",
   "version": "3.7.3"
  }
 },
 "nbformat": 4,
 "nbformat_minor": 2
}
